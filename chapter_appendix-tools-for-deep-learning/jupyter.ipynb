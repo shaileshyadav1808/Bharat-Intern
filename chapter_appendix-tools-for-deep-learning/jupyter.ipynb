{
  "cells": [
    {
      "cell_type": "markdown",
      "metadata": {
        "id": "view-in-github",
        "colab_type": "text"
      },
      "source": [
        "<a href=\"https://colab.research.google.com/github/shaileshyadav1808/Bharat-Intern/blob/main/chapter_appendix-tools-for-deep-learning/jupyter.ipynb\" target=\"_parent\"><img src=\"https://colab.research.google.com/assets/colab-badge.svg\" alt=\"Open In Colab\"/></a>"
      ]
    },
    {
      "cell_type": "markdown",
      "id": "31d9a4c9",
      "metadata": {
        "origin_pos": 0,
        "id": "31d9a4c9"
      },
      "source": [
        "# Using Jupyter Notebooks\n",
        ":label:`sec_jupyter`\n",
        "\n",
        "\n",
        "This section describes how to edit and run the code\n",
        "in each section of this book\n",
        "using the Jupyter Notebook. Make sure you have\n",
        "installed Jupyter and downloaded the\n",
        "code as described in\n",
        ":ref:`chap_installation`.\n",
        "If you want to know more about Jupyter see the excellent tutorial in\n",
        "their [documentation](https://jupyter.readthedocs.io/en/latest/).\n",
        "\n",
        "\n",
        "## Editing and Running the Code Locally\n",
        "\n",
        "Suppose that the local path of the book's code is `xx/yy/d2l-en/`. Use the shell to change the directory to this path (`cd xx/yy/d2l-en`) and run the command `jupyter notebook`. If your browser does not do this automatically, open http://localhost:8888 and you will see the interface of Jupyter and all the folders containing the code of the book, as shown in :numref:`fig_jupyter00`.\n",
        "\n",
        "![The folders containing the code of this book.](https://github.com/d2l-ai/d2l-en-colab/blob/master/img/jupyter00.png?raw=1)\n",
        ":width:`600px`\n",
        ":label:`fig_jupyter00`\n",
        "\n",
        "\n",
        "You can access the notebook files by clicking on the folder displayed on the webpage.\n",
        "They usually have the suffix \".ipynb\".\n",
        "For the sake of brevity, we create a temporary \"test.ipynb\" file.\n",
        "The content displayed after you click it is\n",
        "shown in :numref:`fig_jupyter01`.\n",
        "This notebook includes a markdown cell and a code cell. The content in the markdown cell includes \"This Is a Title\" and \"This is text.\".\n",
        "The code cell contains two lines of Python code.\n",
        "\n",
        "![Markdown and code cells in the \"text.ipynb\" file.](https://github.com/d2l-ai/d2l-en-colab/blob/master/img/jupyter01.png?raw=1)\n",
        ":width:`600px`\n",
        ":label:`fig_jupyter01`\n",
        "\n",
        "\n",
        "Double click on the markdown cell to enter edit mode.\n",
        "Add a new text string \"Hello world.\" at the end of the cell, as shown in :numref:`fig_jupyter02`.\n",
        "\n",
        "![Edit the markdown cell.](https://github.com/d2l-ai/d2l-en-colab/blob/master/img/jupyter02.png?raw=1)\n",
        ":width:`600px`\n",
        ":label:`fig_jupyter02`\n",
        "\n",
        "\n",
        "As demonstrated in :numref:`fig_jupyter03`,\n",
        "click \"Cell\" $\\rightarrow$ \"Run Cells\" in the menu bar to run the edited cell.\n",
        "\n",
        "![Run the cell.](https://github.com/d2l-ai/d2l-en-colab/blob/master/img/jupyter03.png?raw=1)\n",
        ":width:`600px`\n",
        ":label:`fig_jupyter03`\n",
        "\n",
        "After running, the markdown cell is shown in :numref:`fig_jupyter04`.\n",
        "\n",
        "![The markdown cell after running.](https://github.com/d2l-ai/d2l-en-colab/blob/master/img/jupyter04.png?raw=1)\n",
        ":width:`600px`\n",
        ":label:`fig_jupyter04`\n",
        "\n",
        "\n",
        "Next, click on the code cell. Multiply the elements by 2 after the last line of code, as shown in :numref:`fig_jupyter05`.\n",
        "\n",
        "![Edit the code cell.](https://github.com/d2l-ai/d2l-en-colab/blob/master/img/jupyter05.png?raw=1)\n",
        ":width:`600px`\n",
        ":label:`fig_jupyter05`\n",
        "\n",
        "\n",
        "You can also run the cell with a shortcut (\"Ctrl + Enter\" by default) and obtain the output result from :numref:`fig_jupyter06`.\n",
        "\n",
        "![Run the code cell to obtain the output.](https://github.com/d2l-ai/d2l-en-colab/blob/master/img/jupyter06.png?raw=1)\n",
        ":width:`600px`\n",
        ":label:`fig_jupyter06`\n",
        "\n",
        "\n",
        "When a notebook contains more cells, we can click \"Kernel\" $\\rightarrow$ \"Restart & Run All\" in the menu bar to run all the cells in the entire notebook. By clicking \"Help\" $\\rightarrow$ \"Edit Keyboard Shortcuts\" in the menu bar, you can edit the shortcuts according to your preferences.\n",
        "\n",
        "## Advanced Options\n",
        "\n",
        "Beyond local editing two things are quite important: editing the notebooks in the markdown format and running Jupyter remotely.\n",
        "The latter matters when we want to run the code on a faster server.\n",
        "The former matters since Jupyter's native ipynb format stores a lot of auxiliary data that is\n",
        "irrelevant to the content,\n",
        "mostly related to how and where the code is run.\n",
        "This is confusing for Git, making\n",
        "reviewing contributions very difficult.\n",
        "Fortunately there is an alternative---native editing in the markdown format.\n",
        "\n",
        "### Markdown Files in Jupyter\n",
        "\n",
        "If you wish to contribute to the content of this book, you need to modify the\n",
        "source file (md file, not ipynb file) on GitHub.\n",
        "Using the notedown plugin we\n",
        "can modify notebooks in the md format directly in Jupyter.\n",
        "\n",
        "\n",
        "First, install the notedown plugin, run the Jupyter Notebook, and load the plugin:\n",
        "\n",
        "```\n",
        "pip install d2l-notedown  # You may need to uninstall the original notedown.\n",
        "jupyter notebook --NotebookApp.contents_manager_class='notedown.NotedownContentsManager'\n",
        "```\n",
        "\n",
        "You may also turn on the notedown plugin by default whenever you run the Jupyter Notebook.\n",
        "First, generate a Jupyter Notebook configuration file (if it has already been generated, you can skip this step).\n",
        "\n",
        "```\n",
        "jupyter notebook --generate-config\n",
        "```\n",
        "\n",
        "Then, add the following line to the end of the Jupyter Notebook configuration file (for Linux or macOS, usually in the path `~/.jupyter/jupyter_notebook_config.py`):\n",
        "\n",
        "```\n",
        "c.NotebookApp.contents_manager_class = 'notedown.NotedownContentsManager'\n",
        "```\n",
        "\n",
        "After that, you only need to run the `jupyter notebook` command to turn on the notedown plugin by default.\n",
        "\n",
        "### Running Jupyter Notebooks on a Remote Server\n",
        "\n",
        "Sometimes, you may want to run Jupyter notebooks on a remote server and access it through a browser on your local computer. If Linux or macOS is installed on your local machine (Windows can also support this function through third-party software such as PuTTY), you can use port forwarding:\n",
        "\n",
        "```\n",
        "ssh myserver -L 8888:localhost:8888\n",
        "```\n",
        "\n",
        "The above string `myserver` is the address of the remote server.\n",
        "Then we can use http://localhost:8888 to access the remote server `myserver` that runs Jupyter notebooks. We will detail on how to run Jupyter notebooks on AWS instances\n",
        "later in this appendix.\n",
        "\n",
        "### Timing\n",
        "\n",
        "We can use the `ExecuteTime` plugin to time the execution of each code cell in Jupyter notebooks.\n",
        "Use the following commands to install the plugin:\n",
        "\n",
        "```\n",
        "pip install jupyter_contrib_nbextensions\n",
        "jupyter contrib nbextension install --user\n",
        "jupyter nbextension enable execute_time/ExecuteTime\n",
        "```\n",
        "\n",
        "## Summary\n",
        "\n",
        "* Using the Jupyter Notebook tool, we can edit, run, and contribute to each section of the book.\n",
        "* We can run Jupyter notebooks on remote servers using port forwarding.\n",
        "\n",
        "\n",
        "## Exercises\n",
        "\n",
        "1. Edit and run the code in this book with the Jupyter Notebook on your local machine.\n",
        "1. Edit and run the code in this book with the Jupyter Notebook *remotely* via port forwarding.\n",
        "1. Compare the running time of the operations $\\mathbf{A}^\\top \\mathbf{B}$ and $\\mathbf{A} \\mathbf{B}$ for two square matrices in $\\mathbb{R}^{1024 \\times 1024}$. Which one is faster?\n",
        "\n",
        "\n",
        "[Discussions](https://discuss.d2l.ai/t/421)\n"
      ]
    },
    {
      "cell_type": "code",
      "source": [
        "fruits = [ \" apple\", \"banana\", \"cherry\", \"mango\"]\n",
        "print(fruits)"
      ],
      "metadata": {
        "id": "Afr2oM4o8ioC",
        "outputId": "8a0b4c2d-76a0-46f4-ecbf-a36da8b18e28",
        "colab": {
          "base_uri": "https://localhost:8080/"
        }
      },
      "id": "Afr2oM4o8ioC",
      "execution_count": 1,
      "outputs": [
        {
          "output_type": "stream",
          "name": "stdout",
          "text": [
            "[' apple', 'banana', 'cherry', 'mango']\n"
          ]
        }
      ]
    },
    {
      "cell_type": "code",
      "source": [
        "fruits[-2]"
      ],
      "metadata": {
        "id": "cod2vYF380v0",
        "outputId": "d4e42b43-e967-4585-ec4e-7c5b73011dcf",
        "colab": {
          "base_uri": "https://localhost:8080/",
          "height": 35
        }
      },
      "id": "cod2vYF380v0",
      "execution_count": 2,
      "outputs": [
        {
          "output_type": "execute_result",
          "data": {
            "text/plain": [
              "'cherry'"
            ],
            "application/vnd.google.colaboratory.intrinsic+json": {
              "type": "string"
            }
          },
          "metadata": {},
          "execution_count": 2
        }
      ]
    },
    {
      "cell_type": "code",
      "source": [
        "fruits[3]"
      ],
      "metadata": {
        "id": "y2shO1O786BR",
        "outputId": "aa0c5c06-dfee-4381-ccf1-4a295be03deb",
        "colab": {
          "base_uri": "https://localhost:8080/",
          "height": 35
        }
      },
      "id": "y2shO1O786BR",
      "execution_count": 3,
      "outputs": [
        {
          "output_type": "execute_result",
          "data": {
            "text/plain": [
              "'mango'"
            ],
            "application/vnd.google.colaboratory.intrinsic+json": {
              "type": "string"
            }
          },
          "metadata": {},
          "execution_count": 3
        }
      ]
    },
    {
      "cell_type": "code",
      "source": [
        "#mutable\n",
        "\n",
        "fruits[1] = \"blueberry\""
      ],
      "metadata": {
        "id": "J_HPond89Dlm"
      },
      "id": "J_HPond89Dlm",
      "execution_count": 4,
      "outputs": []
    },
    {
      "cell_type": "code",
      "source": [
        "fruits"
      ],
      "metadata": {
        "id": "Q5kOQ2K89QTu",
        "outputId": "fdcdb566-623a-4bdd-bce6-600c9dcc9c9b",
        "colab": {
          "base_uri": "https://localhost:8080/"
        }
      },
      "id": "Q5kOQ2K89QTu",
      "execution_count": 5,
      "outputs": [
        {
          "output_type": "execute_result",
          "data": {
            "text/plain": [
              "[' apple', 'blueberry', 'cherry', 'mango']"
            ]
          },
          "metadata": {},
          "execution_count": 5
        }
      ]
    },
    {
      "cell_type": "markdown",
      "source": [],
      "metadata": {
        "id": "pTdv2ZLc9Sw0"
      },
      "id": "pTdv2ZLc9Sw0"
    },
    {
      "cell_type": "code",
      "source": [
        "fruits.append('range')"
      ],
      "metadata": {
        "id": "EtTShmk59Yol"
      },
      "id": "EtTShmk59Yol",
      "execution_count": 6,
      "outputs": []
    },
    {
      "cell_type": "code",
      "source": [],
      "metadata": {
        "id": "azddFVfe-03p"
      },
      "id": "azddFVfe-03p",
      "execution_count": null,
      "outputs": []
    },
    {
      "cell_type": "code",
      "source": [],
      "metadata": {
        "id": "5dq2Q0Vj-Hks"
      },
      "id": "5dq2Q0Vj-Hks",
      "execution_count": null,
      "outputs": []
    },
    {
      "cell_type": "code",
      "source": [
        "#insert for know index ( to spefecic index)\n",
        "\n",
        "fruits.insert(1, 'grapes')\n",
        "\n"
      ],
      "metadata": {
        "id": "gepPCVp--IkF"
      },
      "id": "gepPCVp--IkF",
      "execution_count": 8,
      "outputs": []
    },
    {
      "cell_type": "code",
      "source": [
        "print(fruits)"
      ],
      "metadata": {
        "id": "LR16XPfc-cI_",
        "outputId": "52f6968b-c3e7-4d03-a91c-266c3154eae8",
        "colab": {
          "base_uri": "https://localhost:8080/"
        }
      },
      "id": "LR16XPfc-cI_",
      "execution_count": 9,
      "outputs": [
        {
          "output_type": "stream",
          "name": "stdout",
          "text": [
            "[' apple', 'grapes', 'blueberry', 'cherry', 'mango', 'range']\n"
          ]
        }
      ]
    },
    {
      "cell_type": "code",
      "source": [
        "print(fruits)"
      ],
      "metadata": {
        "id": "PI2QACro9-R4",
        "outputId": "2a7c00c8-7f3a-449d-e0b2-be4bad2a3752",
        "colab": {
          "base_uri": "https://localhost:8080/"
        }
      },
      "id": "PI2QACro9-R4",
      "execution_count": 7,
      "outputs": [
        {
          "output_type": "stream",
          "name": "stdout",
          "text": [
            "[' apple', 'blueberry', 'cherry', 'mango', 'range']\n"
          ]
        }
      ]
    },
    {
      "cell_type": "code",
      "source": [
        "fruits.remove('range') # to remove certain value irrsecpetive of index"
      ],
      "metadata": {
        "id": "mtL_jCuj-2oF"
      },
      "id": "mtL_jCuj-2oF",
      "execution_count": 11,
      "outputs": []
    },
    {
      "cell_type": "code",
      "source": [
        "fruits"
      ],
      "metadata": {
        "id": "NMPD5w6t_DmU",
        "outputId": "c73a3f44-4dce-4df4-d40e-ab1de22209ad",
        "colab": {
          "base_uri": "https://localhost:8080/"
        }
      },
      "id": "NMPD5w6t_DmU",
      "execution_count": 12,
      "outputs": [
        {
          "output_type": "execute_result",
          "data": {
            "text/plain": [
              "[' apple', 'grapes', 'blueberry', 'cherry', 'mango']"
            ]
          },
          "metadata": {},
          "execution_count": 12
        }
      ]
    },
    {
      "cell_type": "code",
      "source": [
        "fruits.pop(-2) #pop - index removal"
      ],
      "metadata": {
        "id": "Bkvc5mfR_GxM",
        "outputId": "ecc45a3c-29d1-4838-fa56-325429c59ce2",
        "colab": {
          "base_uri": "https://localhost:8080/",
          "height": 35
        }
      },
      "id": "Bkvc5mfR_GxM",
      "execution_count": 14,
      "outputs": [
        {
          "output_type": "execute_result",
          "data": {
            "text/plain": [
              "'cherry'"
            ],
            "application/vnd.google.colaboratory.intrinsic+json": {
              "type": "string"
            }
          },
          "metadata": {},
          "execution_count": 14
        }
      ]
    },
    {
      "cell_type": "code",
      "source": [
        "#sort\n",
        "\n",
        "a = [4,229,1,5]\n",
        "a.sort()"
      ],
      "metadata": {
        "id": "pvklx_pX_YPo"
      },
      "id": "pvklx_pX_YPo",
      "execution_count": 18,
      "outputs": []
    },
    {
      "cell_type": "code",
      "source": [
        "number = [ 1,2,3,100,500,900,0]"
      ],
      "metadata": {
        "id": "M3JrxNPyAepp"
      },
      "id": "M3JrxNPyAepp",
      "execution_count": 20,
      "outputs": []
    },
    {
      "cell_type": "code",
      "source": [
        "min(number)"
      ],
      "metadata": {
        "id": "XtZQVxsEBGtm",
        "outputId": "5bdd36b9-0e03-4fee-d783-cb29e9bff403",
        "colab": {
          "base_uri": "https://localhost:8080/"
        }
      },
      "id": "XtZQVxsEBGtm",
      "execution_count": 21,
      "outputs": [
        {
          "output_type": "execute_result",
          "data": {
            "text/plain": [
              "0"
            ]
          },
          "metadata": {},
          "execution_count": 21
        }
      ]
    },
    {
      "cell_type": "code",
      "source": [
        "max(number)"
      ],
      "metadata": {
        "id": "TI8AHbHzBM51",
        "outputId": "1ffe2e37-1b4f-49bd-8a0e-6f3362acca83",
        "colab": {
          "base_uri": "https://localhost:8080/"
        }
      },
      "id": "TI8AHbHzBM51",
      "execution_count": 22,
      "outputs": [
        {
          "output_type": "execute_result",
          "data": {
            "text/plain": [
              "900"
            ]
          },
          "metadata": {},
          "execution_count": 22
        }
      ]
    },
    {
      "cell_type": "code",
      "source": [],
      "metadata": {
        "id": "cFDoahSqBXAU"
      },
      "id": "cFDoahSqBXAU",
      "execution_count": null,
      "outputs": []
    },
    {
      "cell_type": "code",
      "source": [
        "#tuples , =cant be changed  ()\n",
        "\n",
        "\n",
        "\n"
      ],
      "metadata": {
        "id": "JVbQKJB1D6Vg"
      },
      "id": "JVbQKJB1D6Vg",
      "execution_count": 23,
      "outputs": []
    },
    {
      "cell_type": "code",
      "source": [
        "fruits =('fruits', 'banana', 'cherry')"
      ],
      "metadata": {
        "id": "ijOfu9HwEW0K"
      },
      "id": "ijOfu9HwEW0K",
      "execution_count": 24,
      "outputs": []
    },
    {
      "cell_type": "code",
      "source": [
        "print(fruits)"
      ],
      "metadata": {
        "id": "nGOImbyOEeac",
        "outputId": "9e13ad32-f93d-4f6e-b800-bd9870550317",
        "colab": {
          "base_uri": "https://localhost:8080/"
        }
      },
      "id": "nGOImbyOEeac",
      "execution_count": 25,
      "outputs": [
        {
          "output_type": "stream",
          "name": "stdout",
          "text": [
            "('fruits', 'banana', 'cherry')\n"
          ]
        }
      ]
    },
    {
      "cell_type": "code",
      "source": [
        "type(fruits)"
      ],
      "metadata": {
        "id": "UAB_JCwqEibx",
        "outputId": "cba43a66-4f17-4883-f3ac-8191bf479904",
        "colab": {
          "base_uri": "https://localhost:8080/"
        }
      },
      "id": "UAB_JCwqEibx",
      "execution_count": 26,
      "outputs": [
        {
          "output_type": "execute_result",
          "data": {
            "text/plain": [
              "tuple"
            ]
          },
          "metadata": {},
          "execution_count": 26
        }
      ]
    },
    {
      "cell_type": "code",
      "source": [
        "fruits[0] = \"mango\""
      ],
      "metadata": {
        "id": "nB7fVAX5EvZh",
        "outputId": "726f1746-b5d8-4a61-ca59-709eb288912b",
        "colab": {
          "base_uri": "https://localhost:8080/",
          "height": 141
        }
      },
      "id": "nB7fVAX5EvZh",
      "execution_count": 27,
      "outputs": [
        {
          "output_type": "error",
          "ename": "TypeError",
          "evalue": "'tuple' object does not support item assignment",
          "traceback": [
            "\u001b[0;31m---------------------------------------------------------------------------\u001b[0m",
            "\u001b[0;31mTypeError\u001b[0m                                 Traceback (most recent call last)",
            "\u001b[0;32m<ipython-input-27-d233bb7cafc7>\u001b[0m in \u001b[0;36m<cell line: 0>\u001b[0;34m()\u001b[0m\n\u001b[0;32m----> 1\u001b[0;31m \u001b[0mfruits\u001b[0m\u001b[0;34m[\u001b[0m\u001b[0;36m0\u001b[0m\u001b[0;34m]\u001b[0m \u001b[0;34m=\u001b[0m \u001b[0;34m\"mango\"\u001b[0m\u001b[0;34m\u001b[0m\u001b[0;34m\u001b[0m\u001b[0m\n\u001b[0m",
            "\u001b[0;31mTypeError\u001b[0m: 'tuple' object does not support item assignment"
          ]
        }
      ]
    },
    {
      "cell_type": "code",
      "source": [
        "#concatinating tuples can add value to variable but not to oroginal tuple\n",
        "\n",
        "list(fruits)"
      ],
      "metadata": {
        "id": "dEb80aGrE8G-",
        "outputId": "d634b677-d12f-4032-f9f1-af68a1883ae4",
        "colab": {
          "base_uri": "https://localhost:8080/"
        }
      },
      "id": "dEb80aGrE8G-",
      "execution_count": 28,
      "outputs": [
        {
          "output_type": "execute_result",
          "data": {
            "text/plain": [
              "['fruits', 'banana', 'cherry']"
            ]
          },
          "metadata": {},
          "execution_count": 28
        }
      ]
    },
    {
      "cell_type": "code",
      "source": [
        "tuple(fruits)"
      ],
      "metadata": {
        "id": "WelGqH_TFvG_",
        "outputId": "2f0ca2df-09c2-443d-8436-9a7e60f67dc0",
        "colab": {
          "base_uri": "https://localhost:8080/"
        }
      },
      "id": "WelGqH_TFvG_",
      "execution_count": 29,
      "outputs": [
        {
          "output_type": "execute_result",
          "data": {
            "text/plain": [
              "('fruits', 'banana', 'cherry')"
            ]
          },
          "metadata": {},
          "execution_count": 29
        }
      ]
    },
    {
      "cell_type": "code",
      "source": [
        "fruits = {\" apple \", \"banana\", \"cherry\", \"apple\"}"
      ],
      "metadata": {
        "id": "cpz5IJZdGSBO"
      },
      "id": "cpz5IJZdGSBO",
      "execution_count": 31,
      "outputs": []
    },
    {
      "cell_type": "code",
      "source": [
        "print(fruits)"
      ],
      "metadata": {
        "id": "SD9nBQGKGjei",
        "outputId": "bfdb43ff-bbc0-449e-c080-7f803ad23e0e",
        "colab": {
          "base_uri": "https://localhost:8080/"
        }
      },
      "id": "SD9nBQGKGjei",
      "execution_count": 32,
      "outputs": [
        {
          "output_type": "stream",
          "name": "stdout",
          "text": [
            "{'banana', ' apple ', 'apple', 'cherry'}\n"
          ]
        }
      ]
    },
    {
      "cell_type": "code",
      "source": [
        "fruits.add('Mango')"
      ],
      "metadata": {
        "id": "NwJpesUfHGru"
      },
      "id": "NwJpesUfHGru",
      "execution_count": 33,
      "outputs": []
    },
    {
      "cell_type": "code",
      "source": [
        "fruits"
      ],
      "metadata": {
        "id": "THX3xj-jHLFz",
        "outputId": "694eb03e-ae05-4c84-c987-fb96e29c4d96",
        "colab": {
          "base_uri": "https://localhost:8080/"
        }
      },
      "id": "THX3xj-jHLFz",
      "execution_count": 34,
      "outputs": [
        {
          "output_type": "execute_result",
          "data": {
            "text/plain": [
              "{' apple ', 'Mango', 'apple', 'banana', 'cherry'}"
            ]
          },
          "metadata": {},
          "execution_count": 34
        }
      ]
    },
    {
      "cell_type": "code",
      "source": [
        "set1 = {1,2,3,4}\n",
        "set2 = {3,4,5,6}"
      ],
      "metadata": {
        "id": "MrAp1k0QHcAo"
      },
      "id": "MrAp1k0QHcAo",
      "execution_count": 35,
      "outputs": []
    },
    {
      "cell_type": "code",
      "source": [
        "print(set1 | set2)"
      ],
      "metadata": {
        "id": "3uOogWyLHjkn",
        "outputId": "32c6750c-1453-4d87-be2c-73b2f02f7129",
        "colab": {
          "base_uri": "https://localhost:8080/"
        }
      },
      "id": "3uOogWyLHjkn",
      "execution_count": 36,
      "outputs": [
        {
          "output_type": "stream",
          "name": "stdout",
          "text": [
            "{1, 2, 3, 4, 5, 6}\n"
          ]
        }
      ]
    },
    {
      "cell_type": "code",
      "source": [
        "#intersection ( same elements )\n",
        "\n",
        "print( set1 & set2)"
      ],
      "metadata": {
        "id": "-07Dbw_THr-5",
        "outputId": "732efed0-e63c-431a-bc1c-4ed6adc7b73f",
        "colab": {
          "base_uri": "https://localhost:8080/"
        }
      },
      "id": "-07Dbw_THr-5",
      "execution_count": 37,
      "outputs": [
        {
          "output_type": "stream",
          "name": "stdout",
          "text": [
            "{3, 4}\n"
          ]
        }
      ]
    },
    {
      "cell_type": "code",
      "source": [
        "#difference\n",
        "\n",
        "print(set1 -  set2)"
      ],
      "metadata": {
        "id": "Q19DIRBRH1Lm",
        "outputId": "58534303-f47c-42e3-c25c-130df92d666d",
        "colab": {
          "base_uri": "https://localhost:8080/"
        }
      },
      "id": "Q19DIRBRH1Lm",
      "execution_count": 38,
      "outputs": [
        {
          "output_type": "stream",
          "name": "stdout",
          "text": [
            "{1, 2}\n"
          ]
        }
      ]
    },
    {
      "cell_type": "code",
      "source": [],
      "metadata": {
        "id": "tB7HKObdJ6Iv"
      },
      "id": "tB7HKObdJ6Iv",
      "execution_count": null,
      "outputs": []
    },
    {
      "cell_type": "markdown",
      "source": [],
      "metadata": {
        "id": "zpOSp4UO9VOl"
      },
      "id": "zpOSp4UO9VOl"
    }
  ],
  "metadata": {
    "kernelspec": {
      "display_name": "Python 3",
      "name": "python3"
    },
    "language_info": {
      "name": "python"
    },
    "required_libs": [],
    "colab": {
      "provenance": [],
      "include_colab_link": true
    }
  },
  "nbformat": 4,
  "nbformat_minor": 5
}